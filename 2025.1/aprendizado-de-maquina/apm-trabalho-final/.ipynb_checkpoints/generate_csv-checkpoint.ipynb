{
 "cells": [
  {
   "cell_type": "code",
   "execution_count": null,
   "id": "7020cbc5",
   "metadata": {
    "vscode": {
     "languageId": "plaintext"
    }
   },
   "outputs": [],
   "source": [
    "import pandas as pd\n",
    "import numpy as np\n",
    "from os import listdir\n",
    "from os.path import join, isfile\n",
    "from matplotlib.image import imread"
   ]
  },
  {
   "cell_type": "code",
   "execution_count": null,
   "id": "be21c933",
   "metadata": {
    "vscode": {
     "languageId": "plaintext"
    }
   },
   "outputs": [],
   "source": [
    "path = 'images/'\n",
    "species_label = 'species'\n",
    "image_label = 'img'\n",
    "data = {species_label: [], image_label: []}\n",
    "for filename in listdir(path):\n",
    "    full_path = join(path, filename)\n",
    "    label = filename[4:].replace(\"_\", \" \")\n",
    "    for image in listdir(full_path):\n",
    "        img_full_path = join(full_path, image)\n",
    "        img_bytes = imread(img_full_path)\n",
    "        data[species_label].append(label)\n",
    "        data[image_label].append(img_bytes)\n",
    "\n",
    "df = pd.DataFrame(data)\n",
    "df[image_label] = df[image_label].apply(lambda x: x.astype(np.uint8))\n",
    "\n",
    "print(df.head())\n",
    "df.to_pickle('csv-apm-trabalhofinal')\n",
    "        \n",
    "        \n"
   ]
  }
 ],
 "metadata": {
  "language_info": {
   "name": "python"
  }
 },
 "nbformat": 4,
 "nbformat_minor": 5
}
