{
  "nbformat": 4,
  "nbformat_minor": 0,
  "metadata": {
    "colab": {
      "provenance": []
    },
    "kernelspec": {
      "name": "python3",
      "display_name": "Python 3"
    },
    "language_info": {
      "name": "python"
    }
  },
  "cells": [
    {
      "cell_type": "markdown",
      "source": [
        "#Lista 3 - Aprendizado de maquina\n",
        "##Aluno: Pedro Gabriel Castelo Garcez\n",
        "##Matricula: 535926"
      ],
      "metadata": {
        "id": "FtcRRa3VT7sl"
      }
    },
    {
      "cell_type": "code",
      "execution_count": null,
      "metadata": {
        "id": "hx2pMDlDjQfu"
      },
      "outputs": [],
      "source": [
        "import pandas as pd\n",
        "import numpy as np\n",
        "from sklearn.model_selection import train_test_split\n",
        "from prettytable import PrettyTable\n",
        "from sklearn import tree"
      ]
    },
    {
      "cell_type": "markdown",
      "source": [
        "#Utilidadades"
      ],
      "metadata": {
        "id": "4GCD94JWJLuv"
      }
    },
    {
      "cell_type": "code",
      "source": [
        "\n",
        "def display_accuracy_tables(means, std_deviations):\n",
        "    global_table = PrettyTable()\n",
        "    global_table.title = \"Metricas\"\n",
        "    global_table.field_names = [\"Metrica\", \"Media\", \"Desvio Padrao\"]\n",
        "    metrics = [\"Acuracia\", \"Revocacao\", \"Precisao\", \"F1\"]\n",
        "\n",
        "    for idx, metric in enumerate(metrics):\n",
        "      global_table.add_row([\n",
        "          metric,\n",
        "          f\"{means[idx]:.4f}\",\n",
        "          f\"{std_deviations[idx]:.4f}\"\n",
        "      ])\n",
        "\n",
        "    print(global_table)"
      ],
      "metadata": {
        "id": "HMOTnpGaJPwB"
      },
      "execution_count": null,
      "outputs": []
    },
    {
      "cell_type": "markdown",
      "source": [
        "#Questao 1"
      ],
      "metadata": {
        "id": "XpW-x4HjJOAN"
      }
    },
    {
      "cell_type": "code",
      "source": [
        "df = pd.read_csv(\"kc2.csv\")\n",
        "x = df.values[:, 0:21]\n",
        "y = df.values[:, -1:]\n",
        "X_train, X_test, y_train, y_test = train_test_split(x, y, test_size=0.2)"
      ],
      "metadata": {
        "id": "VoXpA0YUl6D-"
      },
      "execution_count": null,
      "outputs": []
    },
    {
      "cell_type": "code",
      "source": [
        "class KFoldValidator:\n",
        "  def __init__(self, X, Y, k=10):\n",
        "    n, _ = X.shape\n",
        "    self.k = k\n",
        "    idxs = np.arange(n)\n",
        "    fold_ratio = n // k\n",
        "    folds = []\n",
        "    for fold in range(k):\n",
        "      test_indices = idxs[fold * fold_ratio: (fold + 1) * fold_ratio]\n",
        "      train_indices = np.concatenate([idxs[:fold * fold_ratio], idxs[(fold + 1) * fold_ratio:]])\n",
        "      folds.append((train_indices, test_indices))\n",
        "    self.folds = folds\n",
        "    self.X = X\n",
        "    self.Y = Y\n",
        "\n",
        "\n",
        "  def validate_model(self, model, calculate_score):\n",
        "    g_scores = None\n",
        "    for train_indices, test_indices in self.folds:\n",
        "      X_train, y_train = self.X[train_indices], self.Y[train_indices]\n",
        "      X_test, y_test = self.X[test_indices], self.Y[test_indices]\n",
        "      model.fit(X_train, y_train)\n",
        "      pred = model.predict(X_test)\n",
        "      scores = calculate_score(y_test, pred)\n",
        "      g_scores = scores if g_scores is None else np.r_[g_scores, scores]\n",
        "\n",
        "    return (np.mean(g_scores, axis=0), np.std(g_scores, axis=0))"
      ],
      "metadata": {
        "id": "GDxyFSkqsvsD"
      },
      "execution_count": null,
      "outputs": []
    },
    {
      "cell_type": "code",
      "source": [
        "class KNearestNeighbor:\n",
        "    def __init__(self, distance_func='euclidian', k=1):\n",
        "        self.training_data = None\n",
        "        self.class_data = None\n",
        "        self.k = k\n",
        "        self.inv_cov = None\n",
        "        match distance_func:\n",
        "            case 'mahalanobis':\n",
        "                self.distance_func = self._mahalanobis_distance\n",
        "            case 'euclidian':\n",
        "                self.distance_func = self._euclidian_distance\n",
        "\n",
        "    def _mahalanobis_distance(self, X):\n",
        "        candidates = None\n",
        "        for x in X:\n",
        "            diff = self.training_data - x\n",
        "            distance = np.sqrt(np.sum(diff @ self.inv_cov @ diff.T,axis=1)).reshape(-1, 1)\n",
        "            min_values = np.argpartition(distance, self.k, axis=0)[0:self.k].reshape(1, -1)\n",
        "            candidates = min_values if candidates is None else np.r_[candidates, min_values]\n",
        "\n",
        "        return candidates\n",
        "\n",
        "\n",
        "    def _euclidian_distance(self, X):\n",
        "        candidates = None\n",
        "        for x in X:\n",
        "            distance = np.sqrt(np.sum((self.training_data - x) ** 2, axis=1)).reshape(-1, 1)\n",
        "            min_values_idx = np.argpartition(distance, self.k, axis=0)[0:self.k].reshape(1, -1)\n",
        "            candidates = min_values_idx if candidates is None else np.r_[candidates, min_values_idx]\n",
        "\n",
        "        return candidates\n",
        "\n",
        "\n",
        "    def fit(self, X, Y):\n",
        "        self.training_data = X\n",
        "        self.class_data = Y\n",
        "\n",
        "        features_means = np.mean(X, axis=0).reshape(1, -1)\n",
        "        centered_features = X - features_means\n",
        "        n = X.shape[0]\n",
        "        cov = 1 / (n - 1) * (np.transpose(centered_features) @ centered_features)\n",
        "\n",
        "        self.inv_cov = np.linalg.pinv(cov)\n",
        "\n",
        "\n",
        "    def predict(self, X):\n",
        "        candidates = self.distance_func(X)\n",
        "        pred = []\n",
        "        for candidate in candidates:\n",
        "            classes = self.class_data[candidate]\n",
        "            classes_count = np.unique(classes, return_counts=True)\n",
        "\n",
        "            if len(classes_count[0]) == 1 or self.k == 1:\n",
        "              pred.append(int(classes_count[0][0]))\n",
        "              continue\n",
        "\n",
        "            predicted_class = None\n",
        "            predicted_class_count = None\n",
        "            for class_, count in zip(classes_count[0], classes_count[1]):\n",
        "              if predicted_class is None or count > predicted_class:\n",
        "                predicted_class = int(class_)\n",
        "                predicted_class_count = count\n",
        "\n",
        "            pred.append(predicted_class)\n",
        "\n",
        "        result = np.array(pred).reshape(-1, 1)\n",
        "        return result"
      ],
      "metadata": {
        "id": "BqMS8oPLjT4q"
      },
      "execution_count": null,
      "outputs": []
    },
    {
      "cell_type": "code",
      "source": [
        "def calculate_scores(y_test, predictions):\n",
        "  n, m = y_test.shape\n",
        "  if (predictions.ndim == 1):\n",
        "    predictions = predictions.reshape(-1, 1)\n",
        "\n",
        "  validate_predictions = y_test == predictions\n",
        "  accuracy = np.count_nonzero(validate_predictions) / n\n",
        "\n",
        "  (classes, counts) = np.unique(validate_predictions[(y_test == 1)], return_counts=True)\n",
        "  true_positives = 0\n",
        "  false_negatives = 0\n",
        "  for class_, count in zip (classes, counts):\n",
        "    if class_:\n",
        "      true_positives = count\n",
        "    else:\n",
        "      false_negatives = count\n",
        "\n",
        "  recall = true_positives / (true_positives + false_negatives)\n",
        "\n",
        "  (classes, counts) = np.unique(validate_predictions[(predictions == 1)], return_counts=True)\n",
        "  false_positives = 0\n",
        "  for class_, count in zip(classes, counts):\n",
        "    if not class_:\n",
        "      false_positives = count\n",
        "\n",
        "  precision = true_positives / (true_positives + false_positives)\n",
        "\n",
        "  f1_score = 2 * (precision * recall / (precision + recall))\n",
        "  result = np.array([accuracy, recall, precision, f1_score]).reshape(1, -1)\n",
        "  return result\n",
        "\n"
      ],
      "metadata": {
        "id": "Yi3vgbhht08J"
      },
      "execution_count": null,
      "outputs": []
    },
    {
      "cell_type": "code",
      "source": [
        "validator = KFoldValidator(X_train, y_train)\n",
        "validator"
      ],
      "metadata": {
        "colab": {
          "base_uri": "https://localhost:8080/"
        },
        "id": "tEaQat3NtR5R",
        "outputId": "0251a2b0-cfa8-41e4-fcb5-81143873d59c"
      },
      "execution_count": null,
      "outputs": [
        {
          "output_type": "execute_result",
          "data": {
            "text/plain": [
              "<__main__.KFoldValidator at 0x7f8c0c6759d0>"
            ]
          },
          "metadata": {},
          "execution_count": 7
        }
      ]
    },
    {
      "cell_type": "code",
      "source": [
        "knn = KNearestNeighbor()\n",
        "means, std_deviations = validator.validate_model(knn, calculate_scores)\n",
        "display_accuracy_tables(means, std_deviations)"
      ],
      "metadata": {
        "colab": {
          "base_uri": "https://localhost:8080/"
        },
        "id": "1jS0GUB4l2tw",
        "outputId": "c7a86a0b-4eae-437b-cd73-2d0a9cd65920"
      },
      "execution_count": null,
      "outputs": [
        {
          "output_type": "stream",
          "name": "stdout",
          "text": [
            "+------------------------------------+\n",
            "|              Metricas              |\n",
            "+-----------+--------+---------------+\n",
            "|  Metrica  | Media  | Desvio Padrao |\n",
            "+-----------+--------+---------------+\n",
            "|  Acuracia | 0.6882 |     0.0913    |\n",
            "| Revocacao | 0.6719 |     0.1752    |\n",
            "|  Precisao | 0.6942 |     0.0976    |\n",
            "|     F1    | 0.6720 |     0.1158    |\n",
            "+-----------+--------+---------------+\n"
          ]
        }
      ]
    },
    {
      "cell_type": "code",
      "source": [
        "knn = KNearestNeighbor(k=5)\n",
        "means, std_deviation = validator.validate_model(knn, calculate_scores)\n",
        "display_accuracy_tables(means, std_deviations)"
      ],
      "metadata": {
        "colab": {
          "base_uri": "https://localhost:8080/"
        },
        "id": "LZYglx2SN4Bl",
        "outputId": "faa8c467-4ea0-425e-e519-62df2d5087fc"
      },
      "execution_count": null,
      "outputs": [
        {
          "output_type": "stream",
          "name": "stdout",
          "text": [
            "+------------------------------------+\n",
            "|              Metricas              |\n",
            "+-----------+--------+---------------+\n",
            "|  Metrica  | Media  | Desvio Padrao |\n",
            "+-----------+--------+---------------+\n",
            "|  Acuracia | 0.6353 |     0.0913    |\n",
            "| Revocacao | 0.9664 |     0.1752    |\n",
            "|  Precisao | 0.5847 |     0.0976    |\n",
            "|     F1    | 0.7246 |     0.1158    |\n",
            "+-----------+--------+---------------+\n"
          ]
        }
      ]
    },
    {
      "cell_type": "code",
      "source": [
        "knn_mahalanobis = KNearestNeighbor(distance_func=\"mahalanobis\")\n",
        "means, std_deviation = validator.validate_model(knn_mahalanobis, calculate_scores)\n",
        "display_accuracy_tables(means, std_deviations)"
      ],
      "metadata": {
        "colab": {
          "base_uri": "https://localhost:8080/"
        },
        "id": "4NnVW9eyRHKn",
        "outputId": "e3828f62-6e1b-40d9-827f-a52c3726fb92"
      },
      "execution_count": null,
      "outputs": [
        {
          "output_type": "stream",
          "name": "stdout",
          "text": [
            "+------------------------------------+\n",
            "|              Metricas              |\n",
            "+-----------+--------+---------------+\n",
            "|  Metrica  | Media  | Desvio Padrao |\n",
            "+-----------+--------+---------------+\n",
            "|  Acuracia | 0.6647 |     0.0913    |\n",
            "| Revocacao | 0.7099 |     0.1752    |\n",
            "|  Precisao | 0.6552 |     0.0976    |\n",
            "|     F1    | 0.6742 |     0.1158    |\n",
            "+-----------+--------+---------------+\n"
          ]
        },
        {
          "output_type": "stream",
          "name": "stderr",
          "text": [
            "<ipython-input-5-9fdd3e32a985>:17: RuntimeWarning: invalid value encountered in sqrt\n",
            "  distance = np.sqrt(np.sum(diff @ self.inv_cov @ diff.T,axis=1)).reshape(-1, 1)\n"
          ]
        }
      ]
    },
    {
      "cell_type": "code",
      "source": [
        "knn_mahalanobis = KNearestNeighbor(k=5,distance_func=\"mahalanobis\")\n",
        "means, std_deviation = validator.validate_model(knn_mahalanobis, calculate_scores)\n",
        "display_accuracy_tables(means, std_deviations)"
      ],
      "metadata": {
        "id": "vXTsahdtRqYE",
        "outputId": "a0c66dca-585a-42f5-cdfe-cd52fe3e4d9c",
        "colab": {
          "base_uri": "https://localhost:8080/"
        }
      },
      "execution_count": null,
      "outputs": [
        {
          "output_type": "stream",
          "name": "stdout",
          "text": [
            "+------------------------------------+\n",
            "|              Metricas              |\n",
            "+-----------+--------+---------------+\n",
            "|  Metrica  | Media  | Desvio Padrao |\n",
            "+-----------+--------+---------------+\n",
            "|  Acuracia | 0.5882 |     0.0913    |\n",
            "| Revocacao | 0.9532 |     0.1752    |\n",
            "|  Precisao | 0.5503 |     0.0976    |\n",
            "|     F1    | 0.6950 |     0.1158    |\n",
            "+-----------+--------+---------------+\n"
          ]
        },
        {
          "output_type": "stream",
          "name": "stderr",
          "text": [
            "<ipython-input-5-9fdd3e32a985>:17: RuntimeWarning: invalid value encountered in sqrt\n",
            "  distance = np.sqrt(np.sum(diff @ self.inv_cov @ diff.T,axis=1)).reshape(-1, 1)\n"
          ]
        }
      ]
    },
    {
      "cell_type": "code",
      "source": [
        "clf = tree.DecisionTreeClassifier()\n",
        "means, std_deviation = validator.validate_model(clf, calculate_scores)\n",
        "display_accuracy_tables(means, std_deviations)"
      ],
      "metadata": {
        "id": "THZNgYofMZRB",
        "colab": {
          "base_uri": "https://localhost:8080/"
        },
        "outputId": "0f15e6a6-fdee-4f32-a3e5-3d51d2b3985a"
      },
      "execution_count": null,
      "outputs": [
        {
          "output_type": "stream",
          "name": "stdout",
          "text": [
            "(17, 1)\n",
            "(17, 1)\n",
            "(17, 1)\n",
            "(17, 1)\n",
            "(17, 1)\n",
            "(17, 1)\n",
            "(17, 1)\n",
            "(17, 1)\n",
            "(17, 1)\n",
            "(17, 1)\n",
            "(17, 1)\n",
            "(17, 1)\n",
            "(17, 1)\n",
            "(17, 1)\n",
            "(17, 1)\n",
            "(17, 1)\n",
            "(17, 1)\n",
            "(17, 1)\n",
            "(17, 1)\n",
            "(17, 1)\n",
            "+------------------------------------+\n",
            "|              Metricas              |\n",
            "+-----------+--------+---------------+\n",
            "|  Metrica  | Media  | Desvio Padrao |\n",
            "+-----------+--------+---------------+\n",
            "|  Acuracia | 0.7471 |     0.0913    |\n",
            "| Revocacao | 0.7177 |     0.1752    |\n",
            "|  Precisao | 0.7600 |     0.0976    |\n",
            "|     F1    | 0.7349 |     0.1158    |\n",
            "+-----------+--------+---------------+\n"
          ]
        }
      ]
    }
  ]
}